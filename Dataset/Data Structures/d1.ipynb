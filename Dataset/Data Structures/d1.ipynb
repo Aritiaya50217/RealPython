{
 "cells": [
  {
   "cell_type": "code",
   "execution_count": 3,
   "source": [
    "import pandas as pd\r\n",
    "\r\n",
    "revenues = pd.Series([5555,7000,1980])\r\n",
    "print(revenues)\r\n",
    "\r\n",
    "# แสดงค่า values\r\n",
    "print(revenues.values,type(revenues.values))\r\n",
    "\r\n",
    "# แสดง index\r\n",
    "print(revenues.index)"
   ],
   "outputs": [
    {
     "output_type": "stream",
     "name": "stdout",
     "text": [
      "0    5555\n",
      "1    7000\n",
      "2    1980\n",
      "dtype: int64\n",
      "[5555 7000 1980] <class 'numpy.ndarray'>\n"
     ]
    }
   ],
   "metadata": {}
  }
 ],
 "metadata": {
  "orig_nbformat": 4,
  "language_info": {
   "name": "python",
   "version": "3.8.3",
   "mimetype": "text/x-python",
   "codemirror_mode": {
    "name": "ipython",
    "version": 3
   },
   "pygments_lexer": "ipython3",
   "nbconvert_exporter": "python",
   "file_extension": ".py"
  },
  "kernelspec": {
   "name": "python3",
   "display_name": "Python 3.8.3 64-bit"
  },
  "interpreter": {
   "hash": "a5acd8f69ba5b9827df2db3c5c981d144d49820c6fae24ca0cf3065feea71edd"
  }
 },
 "nbformat": 4,
 "nbformat_minor": 2
}