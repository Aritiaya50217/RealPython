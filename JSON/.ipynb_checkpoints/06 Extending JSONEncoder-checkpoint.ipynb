{
 "cells": [
  {
   "cell_type": "code",
   "execution_count": 18,
   "metadata": {},
   "outputs": [
    {
     "name": "stdout",
     "output_type": "stream",
     "text": [
      "[2.0, 1.0]\n",
      "[2.0, 1.0]\n",
      "['[2.0', ', 1.0', ']']\n"
     ]
    }
   ],
   "source": [
    "import json\n",
    "    \n",
    "class ComplexEncoder(json.JSONEncoder):\n",
    "    def default(self, obj):\n",
    "        if isinstance(obj,complex) :\n",
    "            return [obj.real,obj.imag]\n",
    "        return json.JSONEncoder.default(self,obj)\n",
    "    \n",
    "print(json.dumps(2 + 1j,cls =ComplexEncoder))\n",
    "print(ComplexEncoder().encode(2 + 1j))\n",
    "print(list(ComplexEncoder().iterencode(2 + 1j)))"
   ]
  },
  {
   "cell_type": "code",
   "execution_count": null,
   "metadata": {},
   "outputs": [],
   "source": []
  }
 ],
 "metadata": {
  "kernelspec": {
   "display_name": "Python 3",
   "language": "python",
   "name": "python3"
  },
  "language_info": {
   "codemirror_mode": {
    "name": "ipython",
    "version": 3
   },
   "file_extension": ".py",
   "mimetype": "text/x-python",
   "name": "python",
   "nbconvert_exporter": "python",
   "pygments_lexer": "ipython3",
   "version": "3.8.3"
  }
 },
 "nbformat": 4,
 "nbformat_minor": 4
}
