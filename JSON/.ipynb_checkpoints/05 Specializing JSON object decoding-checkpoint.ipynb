{
 "cells": [
  {
   "cell_type": "code",
   "execution_count": 6,
   "metadata": {},
   "outputs": [
    {
     "name": "stdout",
     "output_type": "stream",
     "text": [
      "(1+2j)\n"
     ]
    },
    {
     "data": {
      "text/plain": [
       "Decimal('1.1')"
      ]
     },
     "execution_count": 6,
     "metadata": {},
     "output_type": "execute_result"
    }
   ],
   "source": [
    "import json\n",
    "import decimal\n",
    "\n",
    "\n",
    "def as_complex(dct) :\n",
    "    if '__complex__' in dct : \n",
    "        return complex(dct['real'],dct['imag'])\n",
    "    return dct\n",
    "\n",
    "print(json.loads('{\"__complex__\" : true , \"real\" : 1,\"imag\" : 2}' ,\n",
    "          object_hook = as_complex))\n",
    "\n",
    "json.loads('1.1',parse_float = decimal.Decimal)"
   ]
  },
  {
   "cell_type": "code",
   "execution_count": null,
   "metadata": {},
   "outputs": [],
   "source": []
  }
 ],
 "metadata": {
  "kernelspec": {
   "display_name": "Python 3",
   "language": "python",
   "name": "python3"
  },
  "language_info": {
   "codemirror_mode": {
    "name": "ipython",
    "version": 3
   },
   "file_extension": ".py",
   "mimetype": "text/x-python",
   "name": "python",
   "nbconvert_exporter": "python",
   "pygments_lexer": "ipython3",
   "version": "3.8.3"
  }
 },
 "nbformat": 4,
 "nbformat_minor": 4
}
