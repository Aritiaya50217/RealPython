{
 "cells": [
  {
   "cell_type": "code",
   "execution_count": 14,
   "metadata": {},
   "outputs": [
    {
     "name": "stdout",
     "output_type": "stream",
     "text": [
      "[\"foo\", {\"bar\": [\"baz\", null, 10.0, 2]}]\n",
      "คั่นด้วย \\ :  \"\\\"foo\\bar\"\n",
      "\"\\u1234\"\n",
      "\"\\\\\"\n",
      "{\"a\": 0, \"b\": 0, \"c\": 0}\n"
     ]
    }
   ],
   "source": [
    "import json\n",
    "\n",
    "print(json.dumps(['foo',{'bar' : ('baz',None,10.,2)}]))\n",
    "\n",
    "print('คั่นด้วย \\ : ' , json.dumps(\"\\\"foo\\bar\"))\n",
    "\n",
    "print(json.dumps('\\u1234'))\n",
    "\n",
    "print(json.dumps('\\\\'))\n",
    "\n",
    "# เรียงจากมากไปน้อย ตามอักขระ\n",
    "print(json.dumps({\"c\": 0, \"b\": 0, \"a\": 0}, sort_keys=True))"
   ]
  },
  {
   "cell_type": "code",
   "execution_count": 17,
   "metadata": {},
   "outputs": [
    {
     "name": "stdout",
     "output_type": "stream",
     "text": [
      "None\n",
      "Value :  [\"streaming API\"]\n"
     ]
    }
   ],
   "source": [
    "import json\n",
    "\n",
    "from io import StringIO\n",
    "\n",
    "io = StringIO()\n",
    "# ข้อมูลจะเป็น None  เพราะยังไม่ได้เก็บค่า\n",
    "print(json.dump(['streaming API'],io))\n",
    "# ใช้ method getvalue()  เพื่อรับค่ามาเก็บในตัวแปร io\n",
    "print('Value : ',io.getvalue())"
   ]
  },
  {
   "cell_type": "code",
   "execution_count": null,
   "metadata": {},
   "outputs": [],
   "source": []
  }
 ],
 "metadata": {
  "kernelspec": {
   "display_name": "Python 3",
   "language": "python",
   "name": "python3"
  },
  "language_info": {
   "codemirror_mode": {
    "name": "ipython",
    "version": 3
   },
   "file_extension": ".py",
   "mimetype": "text/x-python",
   "name": "python",
   "nbconvert_exporter": "python",
   "pygments_lexer": "ipython3",
   "version": "3.8.3"
  }
 },
 "nbformat": 4,
 "nbformat_minor": 4
}
